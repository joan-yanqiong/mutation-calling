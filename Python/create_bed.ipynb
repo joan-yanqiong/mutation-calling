{
 "cells": [
  {
   "cell_type": "code",
   "execution_count": 24,
   "metadata": {},
   "outputs": [],
   "source": [
    "import numpy as np\n",
    "import pandas as pd\n"
   ]
  },
  {
   "cell_type": "code",
   "execution_count": 31,
   "metadata": {},
   "outputs": [],
   "source": [
    "headers = [\"chrom\", \"chromStart\", \"chromEnd\"]\n",
    "output_dir =\"/Users/joankant/Desktop/gaitigroup/Users/Joan/mutation-calling/data/sites_to_remove_dbs\"\n",
    "\n",
    "base_dir=\"/Users/joankant/Desktop/gaitigroup/Users/Joan/mutation-calling/data/MAT\"\n",
    "darned_path=f\"{base_dir}/Darned_mat.txt\"\n",
    "exac_path=f\"{base_dir}/Exac_mat.txt\"\n",
    "radar_path=f\"{base_dir}/Radar_mat.txt\"\n",
    "\n",
    "pseudo_path=f\"{base_dir}/9606_pseudogenes.txt\""
   ]
  },
  {
   "cell_type": "code",
   "execution_count": 26,
   "metadata": {},
   "outputs": [],
   "source": [
    "# Darned Database\n",
    "darned_mat = pd.read_csv(darned_path, sep=\"\\t\")\n",
    "darned_tmp = darned_mat.loc[:, [\"Pos\", \"Pos.1\"]]\n",
    "darned_tmp[\"chromEnd\"] = darned_tmp[\"Pos.1\"] + 1\n",
    "\n",
    "darned_tmp.columns = headers\n",
    "darned_tmp.to_csv(f\"{output_dir}/Darned_mat.bed\", sep=\"\\t\", index=False, header=True)"
   ]
  },
  {
   "cell_type": "code",
   "execution_count": 27,
   "metadata": {},
   "outputs": [],
   "source": [
    "# Exac Database\n",
    "exac_mat = pd.read_csv(exac_path, sep=\"\\t\", header = None)\n",
    "exac_mat_tmp = exac_mat.loc[:, [0, 1, 4]]\n",
    "exac_mat_tmp.columns = [\"chrom\", \"chromStart\", \"MAF\"]\n",
    "exac_mat_tmp[\"chromEnd\"] = exac_mat_tmp[\"chromStart\"] + 1\n",
    "\n",
    "# Filtering according to RNA-Mutect paper\n",
    "exac_mat_tmp = exac_mat_tmp.loc[exac_mat_tmp[\"MAF\"] > 0.05, ]\n",
    "\n",
    "exac_mat_tmp = exac_mat_tmp.loc[:, headers]\n",
    "exac_mat_tmp.to_csv(f\"{output_dir}/exac_mat.bed\", sep=\"\\t\", index=False, header=True)"
   ]
  },
  {
   "cell_type": "code",
   "execution_count": 28,
   "metadata": {},
   "outputs": [],
   "source": [
    "# Radar database\n",
    "radar_mat = pd.read_csv(radar_path, skiprows = 1, sep = \"\\t\", header=None)\n",
    "radar_mat.columns = [\"chrom\", \"chromStart\", \"alt\", \"ref\", \"alt_num\", \"alt_ref\"]\n",
    "\n",
    "radar_mat_tmp = radar_mat.loc[:, [\"chrom\",  \"chromStart\"]]\n",
    "radar_mat_tmp[\"chromEnd\"] = radar_mat_tmp[\"chromStart\"] + 1\n",
    "\n",
    "radar_mat_tmp = radar_mat_tmp.loc[:, headers]\n",
    "radar_mat_tmp.to_csv(f\"{output_dir}/Radar_mat.bed\", sep=\"\\t\", index=False, header=True)"
   ]
  },
  {
   "cell_type": "code",
   "execution_count": 33,
   "metadata": {},
   "outputs": [],
   "source": [
    "pseudo_genes = pd.read_csv(\"/Users/joankant/Desktop/gaitigroup/Users/Joan/h4h-mutation-calling/data/9606_pseudogenes.txt\", sep=\"\\t\")\n",
    "\n",
    "pseudo_genes = pseudo_genes.loc[:, [\"chr\", \"start\", \"end\"]]\n",
    "pseudo_genes.columns = headers\n",
    "pseudo_genes.to_csv(f\"{output_dir}/pseudo_genes.bed\", sep=\"\\t\", index=False, header=True)"
   ]
  },
  {
   "cell_type": "code",
   "execution_count": 35,
   "metadata": {},
   "outputs": [
    {
     "data": {
      "text/html": [
       "<div>\n",
       "<style scoped>\n",
       "    .dataframe tbody tr th:only-of-type {\n",
       "        vertical-align: middle;\n",
       "    }\n",
       "\n",
       "    .dataframe tbody tr th {\n",
       "        vertical-align: top;\n",
       "    }\n",
       "\n",
       "    .dataframe thead th {\n",
       "        text-align: right;\n",
       "    }\n",
       "</style>\n",
       "<table border=\"1\" class=\"dataframe\">\n",
       "  <thead>\n",
       "    <tr style=\"text-align: right;\">\n",
       "      <th></th>\n",
       "      <th>chr</th>\n",
       "      <th>start</th>\n",
       "      <th>end</th>\n",
       "    </tr>\n",
       "  </thead>\n",
       "  <tbody>\n",
       "    <tr>\n",
       "      <th>0</th>\n",
       "      <td>HSCHR6_MHC</td>\n",
       "      <td>28994532</td>\n",
       "      <td>28995420</td>\n",
       "    </tr>\n",
       "    <tr>\n",
       "      <th>1</th>\n",
       "      <td>HSCHR6_MHC</td>\n",
       "      <td>29105729</td>\n",
       "      <td>29106620</td>\n",
       "    </tr>\n",
       "    <tr>\n",
       "      <th>2</th>\n",
       "      <td>HSCHR6_MHC</td>\n",
       "      <td>29236335</td>\n",
       "      <td>29237246</td>\n",
       "    </tr>\n",
       "    <tr>\n",
       "      <th>3</th>\n",
       "      <td>HSCHR6_MHC</td>\n",
       "      <td>29457133</td>\n",
       "      <td>29457535</td>\n",
       "    </tr>\n",
       "    <tr>\n",
       "      <th>4</th>\n",
       "      <td>HSCHR6_MHC</td>\n",
       "      <td>29505647</td>\n",
       "      <td>29506437</td>\n",
       "    </tr>\n",
       "    <tr>\n",
       "      <th>...</th>\n",
       "      <td>...</td>\n",
       "      <td>...</td>\n",
       "      <td>...</td>\n",
       "    </tr>\n",
       "    <tr>\n",
       "      <th>8031</th>\n",
       "      <td>5</td>\n",
       "      <td>180372756</td>\n",
       "      <td>180372904</td>\n",
       "    </tr>\n",
       "    <tr>\n",
       "      <th>8032</th>\n",
       "      <td>5</td>\n",
       "      <td>180409273</td>\n",
       "      <td>180409608</td>\n",
       "    </tr>\n",
       "    <tr>\n",
       "      <th>8033</th>\n",
       "      <td>5</td>\n",
       "      <td>180492092</td>\n",
       "      <td>180492677</td>\n",
       "    </tr>\n",
       "    <tr>\n",
       "      <th>8034</th>\n",
       "      <td>5</td>\n",
       "      <td>180541026</td>\n",
       "      <td>180542654</td>\n",
       "    </tr>\n",
       "    <tr>\n",
       "      <th>8035</th>\n",
       "      <td>5</td>\n",
       "      <td>180898967</td>\n",
       "      <td>180899428</td>\n",
       "    </tr>\n",
       "  </tbody>\n",
       "</table>\n",
       "<p>8036 rows × 3 columns</p>\n",
       "</div>"
      ],
      "text/plain": [
       "             chr      start        end\n",
       "0     HSCHR6_MHC   28994532   28995420\n",
       "1     HSCHR6_MHC   29105729   29106620\n",
       "2     HSCHR6_MHC   29236335   29237246\n",
       "3     HSCHR6_MHC   29457133   29457535\n",
       "4     HSCHR6_MHC   29505647   29506437\n",
       "...          ...        ...        ...\n",
       "8031           5  180372756  180372904\n",
       "8032           5  180409273  180409608\n",
       "8033           5  180492092  180492677\n",
       "8034           5  180541026  180542654\n",
       "8035           5  180898967  180899428\n",
       "\n",
       "[8036 rows x 3 columns]"
      ]
     },
     "execution_count": 35,
     "metadata": {},
     "output_type": "execute_result"
    }
   ],
   "source": []
  },
  {
   "cell_type": "code",
   "execution_count": 30,
   "metadata": {},
   "outputs": [
    {
     "name": "stdout",
     "output_type": "stream",
     "text": [
      "Radar Darned Number of sites: 333215\n",
      "ExAC Database Number of sites: 107408\n",
      "Radar Database Number of sites: 2576459\n"
     ]
    }
   ],
   "source": [
    "print(f\"Radar Darned Number of sites: {darned_tmp.shape[0]}\")\n",
    "print(f\"ExAC Database Number of sites: {exac_mat_tmp.shape[0]}\")\n",
    "print(f\"Radar Database Number of sites: {radar_mat_tmp.shape[0]}\")"
   ]
  }
 ],
 "metadata": {
  "kernelspec": {
   "display_name": "cci_env",
   "language": "python",
   "name": "python3"
  },
  "language_info": {
   "codemirror_mode": {
    "name": "ipython",
    "version": 3
   },
   "file_extension": ".py",
   "mimetype": "text/x-python",
   "name": "python",
   "nbconvert_exporter": "python",
   "pygments_lexer": "ipython3",
   "version": "3.10.8"
  }
 },
 "nbformat": 4,
 "nbformat_minor": 2
}
